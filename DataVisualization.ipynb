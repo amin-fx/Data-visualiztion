{
 "cells": [
  {
   "cell_type": "code",
   "execution_count": 62,
   "metadata": {},
   "outputs": [],
   "source": [
    "import pandas as pd"
   ]
  },
  {
   "cell_type": "code",
   "execution_count": 63,
   "metadata": {},
   "outputs": [
    {
     "data": {
      "text/html": [
       "<div>\n",
       "<style scoped>\n",
       "    .dataframe tbody tr th:only-of-type {\n",
       "        vertical-align: middle;\n",
       "    }\n",
       "\n",
       "    .dataframe tbody tr th {\n",
       "        vertical-align: top;\n",
       "    }\n",
       "\n",
       "    .dataframe thead th {\n",
       "        text-align: right;\n",
       "    }\n",
       "</style>\n",
       "<table border=\"1\" class=\"dataframe\">\n",
       "  <thead>\n",
       "    <tr style=\"text-align: right;\">\n",
       "      <th></th>\n",
       "      <th>Order Number</th>\n",
       "      <th>Customer ID</th>\n",
       "      <th>Month order</th>\n",
       "      <th>Product name</th>\n",
       "      <th>Number of order</th>\n",
       "      <th>Fee</th>\n",
       "      <th>Discount</th>\n",
       "      <th>Final price</th>\n",
       "    </tr>\n",
       "  </thead>\n",
       "  <tbody>\n",
       "    <tr>\n",
       "      <th>0</th>\n",
       "      <td>1402000001</td>\n",
       "      <td>1402100798</td>\n",
       "      <td>5</td>\n",
       "      <td>Shirt</td>\n",
       "      <td>4</td>\n",
       "      <td>3750000</td>\n",
       "      <td>297728</td>\n",
       "      <td>14702272</td>\n",
       "    </tr>\n",
       "    <tr>\n",
       "      <th>1</th>\n",
       "      <td>1402000002</td>\n",
       "      <td>1402100033</td>\n",
       "      <td>8</td>\n",
       "      <td>Hat</td>\n",
       "      <td>8</td>\n",
       "      <td>1200000</td>\n",
       "      <td>116915</td>\n",
       "      <td>9483085</td>\n",
       "    </tr>\n",
       "    <tr>\n",
       "      <th>2</th>\n",
       "      <td>1402000003</td>\n",
       "      <td>1402100758</td>\n",
       "      <td>2</td>\n",
       "      <td>Boots</td>\n",
       "      <td>8</td>\n",
       "      <td>29580000</td>\n",
       "      <td>7585800</td>\n",
       "      <td>229054200</td>\n",
       "    </tr>\n",
       "    <tr>\n",
       "      <th>3</th>\n",
       "      <td>1402000004</td>\n",
       "      <td>1402100794</td>\n",
       "      <td>2</td>\n",
       "      <td>Hat</td>\n",
       "      <td>2</td>\n",
       "      <td>1200000</td>\n",
       "      <td>54833</td>\n",
       "      <td>2345167</td>\n",
       "    </tr>\n",
       "    <tr>\n",
       "      <th>4</th>\n",
       "      <td>1402000005</td>\n",
       "      <td>1402100977</td>\n",
       "      <td>6</td>\n",
       "      <td>Jeans</td>\n",
       "      <td>9</td>\n",
       "      <td>7410000</td>\n",
       "      <td>855559</td>\n",
       "      <td>65834441</td>\n",
       "    </tr>\n",
       "  </tbody>\n",
       "</table>\n",
       "</div>"
      ],
      "text/plain": [
       "   Order Number  Customer ID  Month order Product name  Number of order  \\\n",
       "0    1402000001   1402100798            5        Shirt                4   \n",
       "1    1402000002   1402100033            8          Hat                8   \n",
       "2    1402000003   1402100758            2        Boots                8   \n",
       "3    1402000004   1402100794            2          Hat                2   \n",
       "4    1402000005   1402100977            6        Jeans                9   \n",
       "\n",
       "        Fee  Discount  Final price  \n",
       "0   3750000    297728     14702272  \n",
       "1   1200000    116915      9483085  \n",
       "2  29580000   7585800    229054200  \n",
       "3   1200000     54833      2345167  \n",
       "4   7410000    855559     65834441  "
      ]
     },
     "execution_count": 63,
     "metadata": {},
     "output_type": "execute_result"
    }
   ],
   "source": [
    "# Reading data set\n",
    "boutiquedf = pd.read_excel(\"Botique shop.xlsx\")\n",
    "boutiquedf.head()"
   ]
  },
  {
   "cell_type": "code",
   "execution_count": 64,
   "metadata": {},
   "outputs": [
    {
     "name": "stdout",
     "output_type": "stream",
     "text": [
      "Your product is not in the list!\n"
     ]
    }
   ],
   "source": [
    "# Getting name of product\n",
    "\n",
    "clothInput = input(\"Please enter your product name!\").lower()\n",
    "\n",
    "\n",
    "if clothInput not in boutiquedf[\"Product name\"].unique():\n",
    "    print(\"Your product is not in the list!\")\n",
    "\n"
   ]
  },
  {
   "cell_type": "code",
   "execution_count": null,
   "metadata": {},
   "outputs": [],
   "source": []
  }
 ],
 "metadata": {
  "kernelspec": {
   "display_name": "Python 3",
   "language": "python",
   "name": "python3"
  },
  "language_info": {
   "codemirror_mode": {
    "name": "ipython",
    "version": 3
   },
   "file_extension": ".py",
   "mimetype": "text/x-python",
   "name": "python",
   "nbconvert_exporter": "python",
   "pygments_lexer": "ipython3",
   "version": "3.10.13"
  }
 },
 "nbformat": 4,
 "nbformat_minor": 2
}
