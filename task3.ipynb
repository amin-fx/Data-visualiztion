{
 "cells": [
  {
   "cell_type": "code",
   "execution_count": null,
   "metadata": {},
   "outputs": [],
   "source": [
    "!py -m venv venv"
   ]
  },
  {
   "cell_type": "code",
   "execution_count": null,
   "metadata": {},
   "outputs": [],
   "source": [
    "!venv\\Scripts\\activate"
   ]
  },
  {
   "cell_type": "code",
   "execution_count": null,
   "metadata": {},
   "outputs": [],
   "source": [
    "!pip install pandas"
   ]
  },
  {
   "cell_type": "code",
   "execution_count": null,
   "metadata": {},
   "outputs": [],
   "source": [
    "!pip install matplotlib"
   ]
  },
  {
   "cell_type": "code",
   "execution_count": null,
   "metadata": {},
   "outputs": [],
   "source": [
    "!pip install openpyxl"
   ]
  },
  {
   "cell_type": "code",
   "execution_count": null,
   "metadata": {},
   "outputs": [],
   "source": [
    "# Import essential libraries\n",
    "\n",
    "import pandas as pd\n",
    "import matplotlib.pyplot as plt"
   ]
  },
  {
   "cell_type": "code",
   "execution_count": null,
   "metadata": {},
   "outputs": [],
   "source": [
    "# Reading data set\n",
    "try:\n",
    "    boutiquedf = pd.read_excel(\"Botique shop.xlsx\") \n",
    "\n",
    "except Exception as e:\n",
    "    print(e)"
   ]
  },
  {
   "cell_type": "code",
   "execution_count": null,
   "metadata": {},
   "outputs": [],
   "source": [
    "# Getting ID of ucstomers Example : 1402100330 (True)\n",
    "\n",
    "customerIDInput = int(input(\"Please enter your customer ID!\"))\n",
    "\n",
    "# Taking all customers purchases\n",
    "customerBuyStat = boutiquedf.where(boutiquedf[\"Customer ID\"] == customerIDInput).dropna()\n",
    "\n",
    "if customerBuyStat.empty:\n",
    "    print(\"This customer is not in the list!\")\n",
    "\n",
    "else:\n",
    "    print(f\"OK! You select {customerIDInput}\")\n",
    "\n",
    "    # Number of all purcheses for each month\n",
    "    numberOfPurchesInMonth = customerBuyStat.groupby(\"Month order\")[\"Order Number\"].count()\n",
    "\n",
    "    # Define bar graph for all purcheses for each month\n",
    "    plot1 = plt.figure()\n",
    "    plt.bar(numberOfPurchesInMonth.index, numberOfPurchesInMonth, color=\"#4CAF50\")\n",
    "    plt.xlabel(\"Month\")\n",
    "    plt.ylabel(\"Number of Purchases\")\n",
    "    plt.title(f\"Purches number of customer {customerIDInput} in each month\")\n",
    "    plt.show()\n",
    "\n",
    "    # Total price purcheses for each month\n",
    "    totalPurchesInMonth = customerBuyStat.groupby(\"Month order\")[\"Final price\"].sum()\n",
    "\n",
    "    # Define scatter plot for total price purcheses for each month\n",
    "    plot2 = plt.figure()\n",
    "    plt.scatter(totalPurchesInMonth.index, totalPurchesInMonth)\n",
    "    plt.xlabel(\"Month\")\n",
    "    plt.ylabel(\"Purchases price\")\n",
    "    plt.title(f\"Total purches price of customer {customerIDInput} in each month\")\n",
    "    plt.show()\n",
    "\n",
    "    # Total purcheses for each product\n",
    "    totalPurchesProduct = customerBuyStat.groupby(\"Product name\")[\"Product name\"].count()\n",
    "\n",
    "    # Define bar plot for all purcheses for each product\n",
    "    plot3 = plt.figure()\n",
    "    plt.bar(totalPurchesProduct.index, totalPurchesProduct)\n",
    "    plt.xlabel(\"Product\")\n",
    "    plt.ylabel(\"Purchases number\")\n",
    "    plt.title(f\"Total purches of customer {customerIDInput} for each product\")\n",
    "    plt.show()\n",
    "    "
   ]
  }
 ],
 "metadata": {
  "kernelspec": {
   "display_name": "Python 3",
   "language": "python",
   "name": "python3"
  },
  "language_info": {
   "codemirror_mode": {
    "name": "ipython",
    "version": 3
   },
   "file_extension": ".py",
   "mimetype": "text/x-python",
   "name": "python",
   "nbconvert_exporter": "python",
   "pygments_lexer": "ipython3",
   "version": "3.11.2"
  }
 },
 "nbformat": 4,
 "nbformat_minor": 2
}
